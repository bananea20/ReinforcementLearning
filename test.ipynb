{
 "cells": [
  {
   "cell_type": "code",
   "execution_count": 26,
   "metadata": {},
   "outputs": [
    {
     "name": "stdout",
     "output_type": "stream",
     "text": [
      "Looking in indexes: https://mirror.baidu.com/pypi/simple\n",
      "Collecting stable-baselines3\n",
      "  Downloading https://mirror.baidu.com/pypi/packages/76/07/fb80e30764c9caf1c66d20c58ed5dea8c72c07ff7e9957f2ca9b11b2cdc8/stable_baselines3-1.8.0-py3-none-any.whl (174 kB)\n",
      "\u001b[2K     \u001b[90m━━━━━━━━━━━━━━━━━━━━━━━━━━━━━━━━━━━━━━━\u001b[0m \u001b[32m174.5/174.5 kB\u001b[0m \u001b[31m3.4 MB/s\u001b[0m eta \u001b[36m0:00:00\u001b[0ma \u001b[36m0:00:01\u001b[0m\n",
      "\u001b[?25hCollecting pandas\n",
      "  Downloading https://mirror.baidu.com/pypi/packages/16/75/924e3a52c35cb105a152d29622d0f06bb0f48a677e77ddd6e11ef0004164/pandas-2.0.1-cp38-cp38-manylinux_2_17_x86_64.manylinux2014_x86_64.whl (12.3 MB)\n",
      "\u001b[2K     \u001b[90m━━━━━━━━━━━━━━━━━━━━━━━━━━━━━━━━━━━━━━━━\u001b[0m \u001b[32m12.3/12.3 MB\u001b[0m \u001b[31m10.4 MB/s\u001b[0m eta \u001b[36m0:00:00\u001b[0m00:01\u001b[0m00:01\u001b[0m\n",
      "\u001b[?25hCollecting importlib-metadata~=4.13\n",
      "  Downloading https://mirror.baidu.com/pypi/packages/d0/98/c277899f5aa21f6e6946e1c83f2af650cbfee982763ffb91db07ff7d3a13/importlib_metadata-4.13.0-py3-none-any.whl (23 kB)\n",
      "Requirement already satisfied: numpy in /data/home/bofu.huang.o/conda_env/RF_env/lib/python3.8/site-packages (from stable-baselines3) (1.18.5)\n",
      "Collecting gym==0.21\n",
      "  Downloading https://mirror.baidu.com/pypi/packages/4b/48/920cea66177b865663fde5a9390a59de0ef3b642ad98106ac1d8717d7005/gym-0.21.0.tar.gz (1.5 MB)\n",
      "\u001b[2K     \u001b[90m━━━━━━━━━━━━━━━━━━━━━━━━━━━━━━━━━━━━━━━━\u001b[0m \u001b[32m1.5/1.5 MB\u001b[0m \u001b[31m8.0 MB/s\u001b[0m eta \u001b[36m0:00:00\u001b[0ma \u001b[36m0:00:01\u001b[0m\n",
      "\u001b[?25h  Preparing metadata (setup.py) ... \u001b[?25ldone\n",
      "\u001b[?25hRequirement already satisfied: cloudpickle in /data/home/bofu.huang.o/conda_env/RF_env/lib/python3.8/site-packages (from stable-baselines3) (2.2.1)\n",
      "Collecting matplotlib\n",
      "  Using cached https://mirror.baidu.com/pypi/packages/5d/22/f55638bea4af17edf23e1c919ad5d256141bbeec0196c450be9785f1dcb6/matplotlib-3.7.1-cp38-cp38-manylinux_2_12_x86_64.manylinux2010_x86_64.whl (9.2 MB)\n",
      "Requirement already satisfied: torch>=1.11 in /data/home/bofu.huang.o/conda_env/RF_env/lib/python3.8/site-packages (from stable-baselines3) (2.0.0)\n",
      "Requirement already satisfied: zipp>=0.5 in /data/home/bofu.huang.o/conda_env/RF_env/lib/python3.8/site-packages (from importlib-metadata~=4.13->stable-baselines3) (3.15.0)\n",
      "Requirement already satisfied: filelock in /data/home/bofu.huang.o/conda_env/RF_env/lib/python3.8/site-packages (from torch>=1.11->stable-baselines3) (3.12.0)\n",
      "Requirement already satisfied: nvidia-nccl-cu11==2.14.3 in /data/home/bofu.huang.o/conda_env/RF_env/lib/python3.8/site-packages (from torch>=1.11->stable-baselines3) (2.14.3)\n",
      "Requirement already satisfied: nvidia-cusolver-cu11==11.4.0.1 in /data/home/bofu.huang.o/conda_env/RF_env/lib/python3.8/site-packages (from torch>=1.11->stable-baselines3) (11.4.0.1)\n",
      "Requirement already satisfied: networkx in /data/home/bofu.huang.o/conda_env/RF_env/lib/python3.8/site-packages (from torch>=1.11->stable-baselines3) (3.1)\n",
      "Requirement already satisfied: jinja2 in /data/home/bofu.huang.o/conda_env/RF_env/lib/python3.8/site-packages (from torch>=1.11->stable-baselines3) (3.1.2)\n",
      "Requirement already satisfied: nvidia-cufft-cu11==10.9.0.58 in /data/home/bofu.huang.o/conda_env/RF_env/lib/python3.8/site-packages (from torch>=1.11->stable-baselines3) (10.9.0.58)\n",
      "Requirement already satisfied: nvidia-cuda-runtime-cu11==11.7.99 in /data/home/bofu.huang.o/conda_env/RF_env/lib/python3.8/site-packages (from torch>=1.11->stable-baselines3) (11.7.99)\n",
      "Requirement already satisfied: nvidia-cuda-cupti-cu11==11.7.101 in /data/home/bofu.huang.o/conda_env/RF_env/lib/python3.8/site-packages (from torch>=1.11->stable-baselines3) (11.7.101)\n",
      "Requirement already satisfied: nvidia-cusparse-cu11==11.7.4.91 in /data/home/bofu.huang.o/conda_env/RF_env/lib/python3.8/site-packages (from torch>=1.11->stable-baselines3) (11.7.4.91)\n",
      "Requirement already satisfied: nvidia-curand-cu11==10.2.10.91 in /data/home/bofu.huang.o/conda_env/RF_env/lib/python3.8/site-packages (from torch>=1.11->stable-baselines3) (10.2.10.91)\n",
      "Requirement already satisfied: nvidia-cublas-cu11==11.10.3.66 in /data/home/bofu.huang.o/conda_env/RF_env/lib/python3.8/site-packages (from torch>=1.11->stable-baselines3) (11.10.3.66)\n",
      "Requirement already satisfied: triton==2.0.0 in /data/home/bofu.huang.o/conda_env/RF_env/lib/python3.8/site-packages (from torch>=1.11->stable-baselines3) (2.0.0)\n",
      "Requirement already satisfied: nvidia-cuda-nvrtc-cu11==11.7.99 in /data/home/bofu.huang.o/conda_env/RF_env/lib/python3.8/site-packages (from torch>=1.11->stable-baselines3) (11.7.99)\n",
      "Requirement already satisfied: nvidia-nvtx-cu11==11.7.91 in /data/home/bofu.huang.o/conda_env/RF_env/lib/python3.8/site-packages (from torch>=1.11->stable-baselines3) (11.7.91)\n",
      "Requirement already satisfied: sympy in /data/home/bofu.huang.o/conda_env/RF_env/lib/python3.8/site-packages (from torch>=1.11->stable-baselines3) (1.11.1)\n",
      "Requirement already satisfied: typing-extensions in /data/home/bofu.huang.o/conda_env/RF_env/lib/python3.8/site-packages (from torch>=1.11->stable-baselines3) (4.5.0)\n",
      "Requirement already satisfied: nvidia-cudnn-cu11==8.5.0.96 in /data/home/bofu.huang.o/conda_env/RF_env/lib/python3.8/site-packages (from torch>=1.11->stable-baselines3) (8.5.0.96)\n",
      "Requirement already satisfied: setuptools in /data/home/bofu.huang.o/conda_env/RF_env/lib/python3.8/site-packages (from nvidia-cublas-cu11==11.10.3.66->torch>=1.11->stable-baselines3) (66.0.0)\n",
      "Requirement already satisfied: wheel in /data/home/bofu.huang.o/conda_env/RF_env/lib/python3.8/site-packages (from nvidia-cublas-cu11==11.10.3.66->torch>=1.11->stable-baselines3) (0.38.4)\n",
      "Requirement already satisfied: cmake in /data/home/bofu.huang.o/conda_env/RF_env/lib/python3.8/site-packages (from triton==2.0.0->torch>=1.11->stable-baselines3) (3.26.3)\n",
      "Requirement already satisfied: lit in /data/home/bofu.huang.o/conda_env/RF_env/lib/python3.8/site-packages (from triton==2.0.0->torch>=1.11->stable-baselines3) (16.0.2)\n",
      "Requirement already satisfied: packaging>=20.0 in /data/home/bofu.huang.o/conda_env/RF_env/lib/python3.8/site-packages (from matplotlib->stable-baselines3) (23.1)\n",
      "Collecting pillow>=6.2.0\n",
      "  Downloading https://mirror.baidu.com/pypi/packages/a6/8b/cca45afbbd58ca032594ea465ded859b9da6d8bc226afe0e60e64bd8872e/Pillow-9.5.0-cp38-cp38-manylinux_2_28_x86_64.whl (3.4 MB)\n",
      "\u001b[2K     \u001b[90m━━━━━━━━━━━━━━━━━━━━━━━━━━━━━━━━━━━━━━━━\u001b[0m \u001b[32m3.4/3.4 MB\u001b[0m \u001b[31m11.0 MB/s\u001b[0m eta \u001b[36m0:00:00\u001b[0m00:01\u001b[0m00:01\u001b[0m\n",
      "\u001b[?25hCollecting pyparsing>=2.3.1\n",
      "  Using cached https://mirror.baidu.com/pypi/packages/6c/10/a7d0fa5baea8fe7b50f448ab742f26f52b80bfca85ac2be9d35cdd9a3246/pyparsing-3.0.9-py3-none-any.whl (98 kB)\n",
      "Collecting cycler>=0.10\n",
      "  Using cached https://mirror.baidu.com/pypi/packages/5c/f9/695d6bedebd747e5eb0fe8fad57b72fdf25411273a39791cde838d5a8f51/cycler-0.11.0-py3-none-any.whl (6.4 kB)\n",
      "Collecting importlib-resources>=3.2.0\n",
      "  Using cached https://mirror.baidu.com/pypi/packages/38/71/c13ea695a4393639830bf96baea956538ba7a9d06fcce7cef10bfff20f72/importlib_resources-5.12.0-py3-none-any.whl (36 kB)\n",
      "Collecting contourpy>=1.0.1\n",
      "  Using cached https://mirror.baidu.com/pypi/packages/8e/d2/38b3da76c0a654dac29f7768a870b930be9a0d35fb469acb86f8d0aaeb54/contourpy-1.0.7-cp38-cp38-manylinux_2_17_x86_64.manylinux2014_x86_64.whl (300 kB)\n",
      "Collecting numpy\n",
      "  Downloading https://mirror.baidu.com/pypi/packages/8b/d9/814a619ab84d8eb0d95e08d4c723e665f1e694b5a6068ca505a61bdc3745/numpy-1.24.3-cp38-cp38-manylinux_2_17_x86_64.manylinux2014_x86_64.whl (17.3 MB)\n",
      "\u001b[2K     \u001b[90m━━━━━━━━━━━━━━━━━━━━━━━━━━━━━━━━━━━━━━━━\u001b[0m \u001b[32m17.3/17.3 MB\u001b[0m \u001b[31m10.2 MB/s\u001b[0m eta \u001b[36m0:00:00\u001b[0m00:01\u001b[0m00:01\u001b[0m\n",
      "\u001b[?25hCollecting kiwisolver>=1.0.1\n",
      "  Using cached https://mirror.baidu.com/pypi/packages/86/7a/6b438da7534dacd232ed4e19f74f4edced2cda9494d7e6536f54edfdf4a5/kiwisolver-1.4.4-cp38-cp38-manylinux_2_5_x86_64.manylinux1_x86_64.whl (1.2 MB)\n",
      "Requirement already satisfied: python-dateutil>=2.7 in /data/home/bofu.huang.o/conda_env/RF_env/lib/python3.8/site-packages (from matplotlib->stable-baselines3) (2.8.2)\n",
      "Collecting fonttools>=4.22.0\n",
      "  Using cached https://mirror.baidu.com/pypi/packages/16/07/1c7547e27f559ec078801d522cc4d5127cdd4ef8e831c8ddcd9584668a07/fonttools-4.39.3-py3-none-any.whl (1.0 MB)\n",
      "Collecting tzdata>=2022.1\n",
      "  Using cached https://mirror.baidu.com/pypi/packages/d5/fb/a79efcab32b8a1f1ddca7f35109a50e4a80d42ac1c9187ab46522b2407d7/tzdata-2023.3-py2.py3-none-any.whl (341 kB)\n",
      "Collecting pytz>=2020.1\n",
      "  Using cached https://mirror.baidu.com/pypi/packages/7f/99/ad6bd37e748257dd70d6f85d916cafe79c0b0f5e2e95b11f7fbc82bf3110/pytz-2023.3-py2.py3-none-any.whl (502 kB)\n",
      "Requirement already satisfied: six>=1.5 in /data/home/bofu.huang.o/conda_env/RF_env/lib/python3.8/site-packages (from python-dateutil>=2.7->matplotlib->stable-baselines3) (1.16.0)\n",
      "Requirement already satisfied: MarkupSafe>=2.0 in /data/home/bofu.huang.o/conda_env/RF_env/lib/python3.8/site-packages (from jinja2->torch>=1.11->stable-baselines3) (2.1.2)\n",
      "Requirement already satisfied: mpmath>=0.19 in /data/home/bofu.huang.o/conda_env/RF_env/lib/python3.8/site-packages (from sympy->torch>=1.11->stable-baselines3) (1.3.0)\n",
      "Building wheels for collected packages: gym\n",
      "  Building wheel for gym (setup.py) ... \u001b[?25ldone\n",
      "\u001b[?25h  Created wheel for gym: filename=gym-0.21.0-py3-none-any.whl size=1616800 sha256=329f9a133d6f0db2a6be7360ef7e17357c023fdc64c31e2e78615f08fed38c9f\n",
      "  Stored in directory: /home/bofu.huang.o/.cache/pip/wheels/5b/9c/ae/985fe74a78c86ae0327b97e92542bb1d4143706df812242454\n",
      "Successfully built gym\n",
      "Installing collected packages: pytz, tzdata, pyparsing, pillow, numpy, kiwisolver, importlib-resources, importlib-metadata, fonttools, cycler, pandas, gym, contourpy, matplotlib, stable-baselines3\n",
      "  Attempting uninstall: numpy\n",
      "    Found existing installation: numpy 1.18.5\n",
      "    Uninstalling numpy-1.18.5:\n",
      "      Successfully uninstalled numpy-1.18.5\n",
      "  Attempting uninstall: importlib-metadata\n",
      "    Found existing installation: importlib-metadata 6.6.0\n",
      "    Uninstalling importlib-metadata-6.6.0:\n",
      "      Successfully uninstalled importlib-metadata-6.6.0\n",
      "  Attempting uninstall: gym\n",
      "    Found existing installation: gym 0.26.2\n",
      "    Uninstalling gym-0.26.2:\n",
      "      Successfully uninstalled gym-0.26.2\n",
      "\u001b[31mERROR: pip's dependency resolver does not currently take into account all the packages that are installed. This behaviour is the source of the following dependency conflicts.\n",
      "tensorflow 2.3.0 requires numpy<1.19.0,>=1.16.0, but you have numpy 1.24.3 which is incompatible.\u001b[0m\u001b[31m\n",
      "\u001b[0mSuccessfully installed contourpy-1.0.7 cycler-0.11.0 fonttools-4.39.3 gym-0.21.0 importlib-metadata-4.13.0 importlib-resources-5.12.0 kiwisolver-1.4.4 matplotlib-3.7.1 numpy-1.24.3 pandas-2.0.1 pillow-9.5.0 pyparsing-3.0.9 pytz-2023.3 stable-baselines3-1.8.0 tzdata-2023.3\n"
     ]
    }
   ],
   "source": [
    "# !pip install torch\n",
    "# !pip install stable-baselines3\n",
    "# !pip install numpy==1.20.3\n",
    "# 在这里，感叹号（!）用于表示您希望在Jupyter Notebook或IPython环境中\n",
    "# 运行一个命令行命令。\n",
    "# 这里的命令是pip install stable-baselines3，\n",
    "# 用于安装stable-baselines3库。\n",
    "# 如果您在Jupyter Notebook或IPython中运行此命令，\n",
    "# 它将安装库，而无需离开Python环境。"
   ]
  },
  {
   "cell_type": "code",
   "execution_count": 5,
   "metadata": {},
   "outputs": [],
   "source": [
    "import gym \n",
    "import random"
   ]
  },
  {
   "cell_type": "code",
   "execution_count": 14,
   "metadata": {},
   "outputs": [],
   "source": [
    "env = gym.make('CartPole-v1')\n",
    "states = env.observation_space.shape[0]\n",
    "actions = env.action_space.n"
   ]
  },
  {
   "cell_type": "code",
   "execution_count": 15,
   "metadata": {},
   "outputs": [
    {
     "data": {
      "text/plain": [
       "<TimeLimit<OrderEnforcing<PassiveEnvChecker<CartPoleEnv<CartPole-v1>>>>>"
      ]
     },
     "execution_count": 15,
     "metadata": {},
     "output_type": "execute_result"
    }
   ],
   "source": [
    "env = gym.make('CartPole-v1')\n",
    "env\n"
   ]
  },
  {
   "cell_type": "code",
   "execution_count": 9,
   "metadata": {},
   "outputs": [
    {
     "data": {
      "text/plain": [
       "2"
      ]
     },
     "execution_count": 9,
     "metadata": {},
     "output_type": "execute_result"
    }
   ],
   "source": [
    "actions\n"
   ]
  },
  {
   "attachments": {},
   "cell_type": "markdown",
   "metadata": {},
   "source": [
    "创建一个环境"
   ]
  },
  {
   "cell_type": "code",
   "execution_count": 19,
   "metadata": {},
   "outputs": [
    {
     "name": "stdout",
     "output_type": "stream",
     "text": [
      "Episode:1 Score:24.0\n",
      "Episode:2 Score:13.0\n",
      "Episode:3 Score:14.0\n",
      "Episode:4 Score:19.0\n",
      "Episode:5 Score:33.0\n",
      "Episode:6 Score:20.0\n",
      "Episode:7 Score:40.0\n",
      "Episode:8 Score:22.0\n",
      "Episode:9 Score:26.0\n",
      "Episode:10 Score:13.0\n"
     ]
    },
    {
     "name": "stderr",
     "output_type": "stream",
     "text": [
      "/data/home/bofu.huang.o/conda_env/RF_env/lib/python3.8/site-packages/gym/envs/classic_control/cartpole.py:211: UserWarning: \u001b[33mWARN: You are calling render method without specifying any render mode. You can specify the render_mode at initialization, e.g. gym(\"CartPole-v1\", render_mode=\"rgb_array\")\u001b[0m\n",
      "  gym.logger.warn(\n"
     ]
    }
   ],
   "source": [
    "# Test Random Environment with OpenAI Gym\n",
    "\n",
    "episodes = 10\n",
    "for episode in range(1, episodes+1):\n",
    "    state = env.reset()\n",
    "    done = False\n",
    "    score = 0 \n",
    "    \n",
    "    while not done:\n",
    "        env.render()\n",
    "        action = random.choice([0,1])\n",
    "        n_state, reward, done, info, temp = env.step(action)\n",
    "        score+=reward\n",
    "    print('Episode:{} Score:{}'.format(episode, score))"
   ]
  },
  {
   "cell_type": "code",
   "execution_count": 23,
   "metadata": {},
   "outputs": [],
   "source": [
    "import numpy as np\n",
    "import torch\n",
    "import torch.nn as nn\n",
    "import torch.nn.functional as F"
   ]
  },
  {
   "cell_type": "code",
   "execution_count": 24,
   "metadata": {},
   "outputs": [],
   "source": [
    "def build_model(states, actions):\n",
    "    model = nn.Sequential(\n",
    "        nn.Flatten(),\n",
    "        nn.Linear(states, 24),\n",
    "        nn.ReLU(),\n",
    "        nn.Linear(24, 24),\n",
    "        nn.ReLU(),\n",
    "        nn.Linear(24, actions)\n",
    "    )\n",
    "    return model\n"
   ]
  },
  {
   "cell_type": "code",
   "execution_count": null,
   "metadata": {},
   "outputs": [],
   "source": [
    "model = build_model(states, actions)"
   ]
  },
  {
   "cell_type": "code",
   "execution_count": 7,
   "metadata": {},
   "outputs": [],
   "source": [
    "from stable_baselines3 import DQN\n",
    "from stable_baselines3.common.env_util import make_atari_env\n",
    "from stable_baselines3.common.vec_env import VecFrameStack\n",
    "from stable_baselines3.dqn import MlpPolicy\n"
   ]
  },
  {
   "cell_type": "code",
   "execution_count": 8,
   "metadata": {},
   "outputs": [
    {
     "ename": "AttributeError",
     "evalue": "type object 'DQN' has no attribute 'create_policy'",
     "output_type": "error",
     "traceback": [
      "\u001b[0;31m---------------------------------------------------------------------------\u001b[0m",
      "\u001b[0;31mAttributeError\u001b[0m                            Traceback (most recent call last)",
      "Cell \u001b[0;32mIn[8], line 21\u001b[0m\n\u001b[1;32m     18\u001b[0m env \u001b[39m=\u001b[39m gym\u001b[39m.\u001b[39mmake(\u001b[39m'\u001b[39m\u001b[39mCartPole-v0\u001b[39m\u001b[39m'\u001b[39m)\n\u001b[1;32m     20\u001b[0m \u001b[39m# Create the custom policy\u001b[39;00m\n\u001b[0;32m---> 21\u001b[0m custom_policy \u001b[39m=\u001b[39m DQN\u001b[39m.\u001b[39;49mcreate_policy(env, MlpPolicy, features_extractor_class\u001b[39m=\u001b[39mCustomNetwork)\n\u001b[1;32m     23\u001b[0m \u001b[39m# Create the DQN agent with the custom policy\u001b[39;00m\n\u001b[1;32m     24\u001b[0m agent \u001b[39m=\u001b[39m DQN(custom_policy, env, verbose\u001b[39m=\u001b[39m\u001b[39m1\u001b[39m)\n",
      "\u001b[0;31mAttributeError\u001b[0m: type object 'DQN' has no attribute 'create_policy'"
     ]
    }
   ],
   "source": [
    "from stable_baselines3.common.torch_layers import BaseFeaturesExtractor\n",
    "\n",
    "class CustomNetwork(BaseFeaturesExtractor):\n",
    "    def __init__(self, observation_space, features_dim=24):\n",
    "        super(CustomNetwork, self).__init__(observation_space, features_dim)\n",
    "        input_dim = observation_space.shape[0]\n",
    "        self.fc1 = nn.Linear(input_dim, 24)\n",
    "        self.fc2 = nn.Linear(24, 24)\n",
    "        self.fc3 = nn.Linear(24, features_dim)\n",
    "\n",
    "    def forward(self, x):\n",
    "        x = torch.relu(self.fc1(x))\n",
    "        x = torch.relu(self.fc2(x))\n",
    "        x = self.fc3(x)\n",
    "        return x\n",
    "\n",
    "# Create the Gym environment\n",
    "env = gym.make('CartPole-v0')\n",
    "\n",
    "# Create the custom policy\n",
    "custom_policy = DQN.create_policy(env, MlpPolicy, features_extractor_class=CustomNetwork)\n",
    "\n",
    "# Create the DQN agent with the custom policy\n",
    "agent = DQN(custom_policy, env, verbose=1)\n",
    "\n",
    "# Train the agent\n",
    "agent.learn(total_timesteps=50000)\n",
    "\n",
    "# Test the trained agent\n",
    "obs = env.reset()\n",
    "for _ in range(1000):\n",
    "    action, _ = agent.predict(obs)\n",
    "    obs, reward, done, info = env.step(action)\n",
    "    env.render(\n",
    "    if done:\n",
    "        obs = env.reset()\n",
    "\n",
    "env.close()\n"
   ]
  }
 ],
 "metadata": {
  "kernelspec": {
   "display_name": "RF_env",
   "language": "python",
   "name": "python3"
  },
  "language_info": {
   "codemirror_mode": {
    "name": "ipython",
    "version": 3
   },
   "file_extension": ".py",
   "mimetype": "text/x-python",
   "name": "python",
   "nbconvert_exporter": "python",
   "pygments_lexer": "ipython3",
   "version": "3.8.16"
  },
  "orig_nbformat": 4
 },
 "nbformat": 4,
 "nbformat_minor": 2
}
